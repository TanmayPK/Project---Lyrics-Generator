{
 "cells": [
  {
   "cell_type": "markdown",
   "id": "149229fd",
   "metadata": {},
   "source": [
    "# Final Project - ARIA - Generate beuatiful lyrics for your next hit!\n",
    "### Group members: Tanmay Khokle, Sriya Venkatesh, Heeru Ahuja"
   ]
  },
  {
   "cell_type": "markdown",
   "id": "6708bf67",
   "metadata": {},
   "source": [
    "## Data cleaning and encoding"
   ]
  },
  {
   "cell_type": "code",
   "execution_count": null,
   "id": "039355ce",
   "metadata": {},
   "outputs": [],
   "source": [
    "import pandas as pd\n",
    "import numpy as np\n",
    "import matplotlib.pyplot as plt\n",
    "import re\n",
    "\n",
    "%matplotlib inline"
   ]
  },
  {
   "cell_type": "code",
   "execution_count": null,
   "id": "b6166d78",
   "metadata": {},
   "outputs": [],
   "source": [
    "import torch\n",
    "import torch.nn as nn\n",
    "import torch.nn.functional as F\n",
    "import torch.optim as optim\n",
    "from torch.autograd import Variable"
   ]
  },
  {
   "cell_type": "code",
   "execution_count": null,
   "id": "5fe97d2d",
   "metadata": {},
   "outputs": [],
   "source": [
    "from tensorflow.keras.preprocessing.text import Tokenizer\n",
    "from tensorflow.keras.utils import to_categorical"
   ]
  },
  {
   "cell_type": "code",
   "execution_count": null,
   "id": "0a2ef893",
   "metadata": {},
   "outputs": [],
   "source": [
    "from torch.utils.data import Dataset, DataLoader"
   ]
  },
  {
   "cell_type": "code",
   "execution_count": null,
   "id": "26fdb816",
   "metadata": {},
   "outputs": [],
   "source": [
    "import time"
   ]
  },
  {
   "cell_type": "code",
   "execution_count": null,
   "id": "1c3397ea",
   "metadata": {},
   "outputs": [],
   "source": [
    "# Loading positive dataset.\n",
    "posdf = pd.read_csv('positive.csv')"
   ]
  },
  {
   "cell_type": "code",
   "execution_count": null,
   "id": "24efc64a",
   "metadata": {},
   "outputs": [],
   "source": [
    "# Uncomment this line to reduce size of dataset for faster training - positive dataset.\n",
    "# posdf = posdf.head(100)"
   ]
  },
  {
   "cell_type": "code",
   "execution_count": null,
   "id": "5ad714e5",
   "metadata": {},
   "outputs": [],
   "source": [
    "posdf.head()"
   ]
  },
  {
   "cell_type": "code",
   "execution_count": null,
   "id": "1331151b",
   "metadata": {},
   "outputs": [],
   "source": [
    "#Loading negative dataset\n",
    "negdf = pd.read_csv('negative.csv')"
   ]
  },
  {
   "cell_type": "code",
   "execution_count": null,
   "id": "d414a35a",
   "metadata": {},
   "outputs": [],
   "source": [
    "# Uncomment this line to reduce size of dataset for faster training - negative dataset.\n",
    "# negdf = negdf.head(100)"
   ]
  },
  {
   "cell_type": "code",
   "execution_count": null,
   "id": "8f47fbc4",
   "metadata": {},
   "outputs": [],
   "source": [
    "negdf.head()"
   ]
  },
  {
   "cell_type": "code",
   "execution_count": null,
   "id": "557d2a3b",
   "metadata": {},
   "outputs": [],
   "source": []
  },
  {
   "cell_type": "code",
   "execution_count": null,
   "id": "9fda0cab",
   "metadata": {},
   "outputs": [],
   "source": [
    "def replacenewline(dataframe):\n",
    "    '''\n",
    "    Cleans up lyrics by changing \\n to 'newline' to help tokenizer and removes unnecessary junk terms.\n",
    "    param dataframe: datadframe to remove from.\n",
    "    '''\n",
    "    dataframe['Lyrics'] = dataframe['Lyrics'].str.replace(r\"\\n\", \"newline\", regex=True)\n",
    "    dataframe['Lyrics'] = dataframe['Lyrics'].str.replace(r\"urlembedcopy\", \"\", regex=True)\n",
    "    dataframe['Lyrics'] = dataframe['Lyrics'].str.replace(r\"urlcopyembedcopy\", \"\", regex=True)\n",
    "    dataframe['Lyrics'] = dataframe['Lyrics'].str.replace(r\"roamembedshare\", \"\", regex=True)"
   ]
  },
  {
   "cell_type": "code",
   "execution_count": null,
   "id": "812df787",
   "metadata": {},
   "outputs": [],
   "source": [
    "replacenewline(posdf)\n",
    "replacenewline(negdf)"
   ]
  },
  {
   "cell_type": "code",
   "execution_count": null,
   "id": "eb1084a0",
   "metadata": {},
   "outputs": [],
   "source": [
    "# get combined lyrics in one list.\n",
    "combined_lyrics_pos = posdf['Lyrics'].str.cat(sep = ' newline ')"
   ]
  },
  {
   "cell_type": "code",
   "execution_count": null,
   "id": "e869141f",
   "metadata": {},
   "outputs": [],
   "source": [
    "combined_lyrics_neg = negdf['Lyrics'].str.cat(sep = ' newline ')"
   ]
  },
  {
   "cell_type": "code",
   "execution_count": null,
   "id": "3c2f5427",
   "metadata": {},
   "outputs": [],
   "source": [
    "def getcleantoks(temp_tokens):\n",
    "    '''\n",
    "    Removes empty tokens from list.\n",
    "    '''\n",
    "    tokens = []\n",
    "    for tok in temp_tokens:\n",
    "        if len(tok) > 0:\n",
    "            tokens.append(tok)\n",
    "    return tokens"
   ]
  },
  {
   "cell_type": "code",
   "execution_count": null,
   "id": "909ba983",
   "metadata": {},
   "outputs": [],
   "source": [
    "pos_tokens = getcleantoks(combined_lyrics_pos.split(\" \"))\n"
   ]
  },
  {
   "cell_type": "code",
   "execution_count": null,
   "id": "fb4c17ff",
   "metadata": {},
   "outputs": [],
   "source": [
    "neg_tokens = getcleantoks(combined_lyrics_neg.split(\" \"))"
   ]
  },
  {
   "cell_type": "code",
   "execution_count": null,
   "id": "df61120e",
   "metadata": {},
   "outputs": [],
   "source": []
  },
  {
   "cell_type": "code",
   "execution_count": null,
   "id": "cc39b26f",
   "metadata": {},
   "outputs": [],
   "source": [
    "#pos_tokens = pos_tokens[0:20000]"
   ]
  },
  {
   "cell_type": "code",
   "execution_count": null,
   "id": "21c3ac3e",
   "metadata": {},
   "outputs": [],
   "source": [
    "#Number of positive tokens\n",
    "len(pos_tokens)"
   ]
  },
  {
   "cell_type": "code",
   "execution_count": null,
   "id": "7ad3426b",
   "metadata": {},
   "outputs": [],
   "source": [
    "# Number of negative tokens\n",
    "len(neg_tokens)"
   ]
  },
  {
   "cell_type": "code",
   "execution_count": null,
   "id": "4c79bfbb",
   "metadata": {},
   "outputs": [],
   "source": [
    "def generateTrainingSet(tokens, n):\n",
    "    '''\n",
    "    converts the token list into dataset with x values bwing wi to wk-1 and y being wk.\n",
    "    param tokens: list og tokens\n",
    "    param n: the size of n gram representation.\n",
    "    '''\n",
    "    training_list = []\n",
    "    label_list = []\n",
    "    for i in range(len(tokens)):\n",
    "        if i + n > len(tokens) - 1:\n",
    "            break\n",
    "        training_list.append(tokens[i:i+n])\n",
    "        label_list.append(tokens[i+n])\n",
    "    \n",
    "    #return pd.DataFrame(list(zip(training_list, label_list)), columns = ['Sequence', 'Label'])\n",
    "    return np.asarray(training_list), np.asarray(label_list)\n",
    "    "
   ]
  },
  {
   "cell_type": "code",
   "execution_count": null,
   "id": "6adb86f4",
   "metadata": {},
   "outputs": [],
   "source": [
    "\n"
   ]
  },
  {
   "cell_type": "code",
   "execution_count": null,
   "id": "c1618bc0",
   "metadata": {},
   "outputs": [],
   "source": []
  },
  {
   "cell_type": "code",
   "execution_count": null,
   "id": "597699f7",
   "metadata": {},
   "outputs": [],
   "source": [
    "# Encode positive data.\n",
    "tokenizer_positive = Tokenizer()\n",
    "tokenizer_positive.fit_on_texts(pos_tokens)\n",
    "encoded_pos = tokenizer_positive.texts_to_sequences(pos_tokens)"
   ]
  },
  {
   "cell_type": "code",
   "execution_count": null,
   "id": "ed25ed40",
   "metadata": {},
   "outputs": [],
   "source": [
    "encoded_pos"
   ]
  },
  {
   "cell_type": "code",
   "execution_count": null,
   "id": "c2bf7622",
   "metadata": {},
   "outputs": [],
   "source": [
    "tokenizer_positive.word_index[\"newline\"]"
   ]
  },
  {
   "cell_type": "code",
   "execution_count": null,
   "id": "783619b7",
   "metadata": {},
   "outputs": [],
   "source": [
    "tokenizer_positive.index_word[1]"
   ]
  },
  {
   "cell_type": "code",
   "execution_count": null,
   "id": "5d2081d8",
   "metadata": {},
   "outputs": [],
   "source": [
    "# Encode negative data.\n",
    "tokenizer_negative = Tokenizer()\n",
    "tokenizer_negative.fit_on_texts(neg_tokens)\n",
    "encoded_neg = tokenizer_negative.texts_to_sequences(neg_tokens)"
   ]
  },
  {
   "cell_type": "code",
   "execution_count": null,
   "id": "b6fe0d3e",
   "metadata": {},
   "outputs": [],
   "source": [
    "posX, posY = generateTrainingSet(encoded_pos, 8)"
   ]
  },
  {
   "cell_type": "code",
   "execution_count": null,
   "id": "fd325598",
   "metadata": {},
   "outputs": [],
   "source": [
    "negX, negY = generateTrainingSet(encoded_neg, 8)"
   ]
  },
  {
   "cell_type": "code",
   "execution_count": null,
   "id": "93860828",
   "metadata": {},
   "outputs": [],
   "source": [
    "posY.shape"
   ]
  },
  {
   "cell_type": "code",
   "execution_count": null,
   "id": "b88a508f",
   "metadata": {},
   "outputs": [],
   "source": [
    "posX.shape"
   ]
  },
  {
   "cell_type": "code",
   "execution_count": null,
   "id": "25fa0c40",
   "metadata": {},
   "outputs": [],
   "source": [
    "len(posX)"
   ]
  },
  {
   "cell_type": "code",
   "execution_count": null,
   "id": "993ac9bf",
   "metadata": {},
   "outputs": [],
   "source": [
    "posX = posX.reshape((len(posX),8))"
   ]
  },
  {
   "cell_type": "code",
   "execution_count": null,
   "id": "0e68a386",
   "metadata": {},
   "outputs": [],
   "source": [
    "posX"
   ]
  },
  {
   "cell_type": "code",
   "execution_count": null,
   "id": "c416a122",
   "metadata": {},
   "outputs": [],
   "source": [
    "posY = posY.reshape((len(posY), ))"
   ]
  },
  {
   "cell_type": "code",
   "execution_count": null,
   "id": "03d8dc9b",
   "metadata": {},
   "outputs": [],
   "source": [
    "posY"
   ]
  },
  {
   "cell_type": "code",
   "execution_count": null,
   "id": "78f67601",
   "metadata": {},
   "outputs": [],
   "source": [
    "posY.shape"
   ]
  },
  {
   "cell_type": "code",
   "execution_count": null,
   "id": "6b52313f",
   "metadata": {},
   "outputs": [],
   "source": [
    "negX = negX.reshape((len(negX),8))"
   ]
  },
  {
   "cell_type": "code",
   "execution_count": null,
   "id": "aa8619e7",
   "metadata": {},
   "outputs": [],
   "source": [
    "negY = negY.reshape((len(negY), ))"
   ]
  },
  {
   "cell_type": "code",
   "execution_count": null,
   "id": "beac7548",
   "metadata": {},
   "outputs": [],
   "source": []
  },
  {
   "cell_type": "code",
   "execution_count": null,
   "id": "fdd76b4e",
   "metadata": {},
   "outputs": [],
   "source": []
  },
  {
   "cell_type": "code",
   "execution_count": null,
   "id": "a5bdbf67",
   "metadata": {},
   "outputs": [],
   "source": []
  },
  {
   "cell_type": "markdown",
   "id": "f136c72d",
   "metadata": {},
   "source": [
    "# Creating models"
   ]
  },
  {
   "cell_type": "code",
   "execution_count": null,
   "id": "d6e5b7a2",
   "metadata": {},
   "outputs": [],
   "source": [
    "class LSTMModel(nn.Module):\n",
    "    '''\n",
    "    LSTM model with embedding layer, lstm layer and fully connected layer.\n",
    "    '''\n",
    "    \n",
    "    def __init__(self, vocab_size):\n",
    "        super().__init__()\n",
    "        self.embedding_size = 200\n",
    "        self.embed = nn.Embedding(vocab_size, self.embedding_size)\n",
    "        self.lstmlayer = nn.LSTM(input_size = self.embedding_size, hidden_size = 128, num_layers = 2, dropout = 0.1)\n",
    "        self.ln1 = nn.Linear(128, vocab_size)\n",
    "        #self.ln2 = nn.Linear(256, vocab_size)\n",
    "        \n",
    "    def forward(self, x):\n",
    "        layer1 = self.embed(x.t())\n",
    "        layer2, junk = self.lstmlayer(layer1)\n",
    "        layer3 = self.ln1(layer2[-1])\n",
    "        #layer4 = self.ln2(layer3[-1])\n",
    "        return layer3\n",
    "        \n",
    "    "
   ]
  },
  {
   "cell_type": "code",
   "execution_count": null,
   "id": "cd4ae4a7",
   "metadata": {},
   "outputs": [],
   "source": [
    "class RNNModel(nn.Module):\n",
    "    '''\n",
    "    RNN model with embedding layer, lstm layer and fully connected layer.\n",
    "    '''\n",
    "    \n",
    "    def __init__(self, vocab_size):\n",
    "        super().__init__()\n",
    "        self.embedding_size = 200\n",
    "        self.embed = nn.Embedding(vocab_size, self.embedding_size)\n",
    "        self.lstmlayer = nn.RNN(input_size = self.embedding_size, hidden_size = 128, num_layers = 2, dropout = 0.1)\n",
    "        self.ln1 = nn.Linear(128, vocab_size)\n",
    "        #self.ln2 = nn.Linear(256, vocab_size)\n",
    "        \n",
    "    def forward(self, x):\n",
    "        layer1 = self.embed(x.t())\n",
    "        layer2, junk = self.lstmlayer(layer1)\n",
    "        layer3 = self.ln1(layer2[-1])\n",
    "        #layer4 = self.ln2(layer3[-1])\n",
    "        return layer3\n",
    "        \n",
    "    "
   ]
  },
  {
   "cell_type": "code",
   "execution_count": null,
   "id": "fc930c8c",
   "metadata": {},
   "outputs": [],
   "source": []
  },
  {
   "cell_type": "code",
   "execution_count": null,
   "id": "4c0179f1",
   "metadata": {},
   "outputs": [],
   "source": []
  },
  {
   "cell_type": "code",
   "execution_count": null,
   "id": "9d23b91e",
   "metadata": {},
   "outputs": [],
   "source": [
    "posX_train = torch.tensor(posX, dtype=torch.long)\n",
    "posY_train = torch.tensor(posY, dtype=torch.long)"
   ]
  },
  {
   "cell_type": "code",
   "execution_count": 44,
   "id": "e85860ad",
   "metadata": {},
   "outputs": [
    {
     "data": {
      "text/plain": [
       "torch.Size([82584, 8])"
      ]
     },
     "execution_count": 44,
     "metadata": {},
     "output_type": "execute_result"
    }
   ],
   "source": [
    "posX_train.shape"
   ]
  },
  {
   "cell_type": "code",
   "execution_count": 45,
   "id": "0ab08cb8",
   "metadata": {},
   "outputs": [],
   "source": [
    "negX_train = torch.tensor(negX, dtype=torch.long)\n",
    "negY_train = torch.tensor(negY, dtype=torch.long)"
   ]
  },
  {
   "cell_type": "code",
   "execution_count": 46,
   "id": "2f16ead7",
   "metadata": {},
   "outputs": [
    {
     "data": {
      "text/plain": [
       "4721"
      ]
     },
     "execution_count": 46,
     "metadata": {},
     "output_type": "execute_result"
    }
   ],
   "source": [
    "len(set(pos_tokens))"
   ]
  },
  {
   "cell_type": "code",
   "execution_count": 47,
   "id": "c345581d",
   "metadata": {},
   "outputs": [],
   "source": [
    "pos_model = LSTMModel(len(set(pos_tokens)) + 1)\n",
    "neg_model = LSTMModel(len(set(neg_tokens)) + 1)"
   ]
  },
  {
   "cell_type": "code",
   "execution_count": null,
   "id": "b326bd18",
   "metadata": {},
   "outputs": [],
   "source": []
  },
  {
   "cell_type": "code",
   "execution_count": null,
   "id": "3a707589",
   "metadata": {},
   "outputs": [],
   "source": [
    "\n"
   ]
  },
  {
   "cell_type": "code",
   "execution_count": null,
   "id": "9e4e3db9",
   "metadata": {},
   "outputs": [],
   "source": []
  },
  {
   "cell_type": "code",
   "execution_count": 48,
   "id": "43f32b8b",
   "metadata": {},
   "outputs": [],
   "source": [
    "\n",
    "\n",
    "def getdataloader(x, y):\n",
    "    '''\n",
    "    Dataloader from torch to feed data one by one.\n",
    "    '''\n",
    "    return torch.utils.data.DataLoader(torch.utils.data.TensorDataset(x, y,), batch_size = 128)\n"
   ]
  },
  {
   "cell_type": "code",
   "execution_count": 49,
   "id": "4af66439",
   "metadata": {},
   "outputs": [],
   "source": [
    "pos_train_dload = getdataloader(posX_train, posY_train)"
   ]
  },
  {
   "cell_type": "code",
   "execution_count": 50,
   "id": "4a63997b",
   "metadata": {},
   "outputs": [],
   "source": [
    "neg_train_dload = getdataloader(negX_train, negY_train)"
   ]
  },
  {
   "cell_type": "code",
   "execution_count": 51,
   "id": "eaac9311",
   "metadata": {},
   "outputs": [],
   "source": [
    "# Optimizers and learning rate\n",
    "learning_rate = 0.001\n",
    "optimpos = torch.optim.Adam(pos_model.parameters(), lr = learning_rate)\n",
    "optimneg = torch.optim.Adam(neg_model.parameters(), lr = learning_rate)"
   ]
  },
  {
   "cell_type": "markdown",
   "id": "59033dd4",
   "metadata": {},
   "source": [
    "# Train the models"
   ]
  },
  {
   "cell_type": "code",
   "execution_count": 52,
   "id": "8ca58915",
   "metadata": {},
   "outputs": [],
   "source": [
    "def train(model, max_epochs, dataloader, opt):\n",
    "    '''\n",
    "    Trains the torch network\n",
    "    '''\n",
    "    for epoch in range(max_epochs):\n",
    "        start = time.time()\n",
    "        print(\"epoch \", epoch,\"/\", max_epochs, end = \" \")\n",
    "        model.train()\n",
    "        cel = 0\n",
    "        crossentropyloss = torch.nn.CrossEntropyLoss()\n",
    "        counter = 9\n",
    "        temploss = 0.0\n",
    "        for i, (x, y) in enumerate(dataloader):\n",
    "            pred_y = model(x)\n",
    "            L = crossentropyloss(pred_y, y)\n",
    "            opt.zero_grad()\n",
    "            counter = 0\n",
    "            for k in range(5):\n",
    "                counter += 1\n",
    "            L.backward()\n",
    "            counter -= 1\n",
    "            opt.step()\n",
    "            counter += 1\n",
    "            temploss+= L.item()/len(dataloader)\n",
    "        endtime = time.time() - start\n",
    "        print('loss={:.5f}    time={:.1f}s'.format(temploss, endtime))\n",
    "    "
   ]
  },
  {
   "cell_type": "code",
   "execution_count": 53,
   "id": "680ea459",
   "metadata": {},
   "outputs": [
    {
     "name": "stdout",
     "output_type": "stream",
     "text": [
      "epoch  0 / 3 loss=5.88597    time=38.7s\n",
      "epoch  1 / 3 loss=5.28103    time=38.4s\n",
      "epoch  2 / 3 loss=4.92364    time=40.2s\n"
     ]
    }
   ],
   "source": [
    "# training positive model with lstm\n",
    "train(pos_model, 3, pos_train_dload, optimpos)"
   ]
  },
  {
   "cell_type": "code",
   "execution_count": 54,
   "id": "29eb6214",
   "metadata": {},
   "outputs": [
    {
     "name": "stdout",
     "output_type": "stream",
     "text": [
      "epoch  0 / 3 loss=6.19233    time=20.2s\n",
      "epoch  1 / 3 loss=5.63939    time=16.0s\n",
      "epoch  2 / 3 loss=5.37949    time=17.5s\n"
     ]
    }
   ],
   "source": [
    "#training negative model with lstm\n",
    "train(neg_model, 3, neg_train_dload, optimneg)"
   ]
  },
  {
   "cell_type": "code",
   "execution_count": 55,
   "id": "99db36e4",
   "metadata": {},
   "outputs": [
    {
     "data": {
      "text/plain": [
       "torch.Size([82584, 8])"
      ]
     },
     "execution_count": 55,
     "metadata": {},
     "output_type": "execute_result"
    }
   ],
   "source": [
    "posX_train.shape"
   ]
  },
  {
   "cell_type": "code",
   "execution_count": 56,
   "id": "f0e34a9e",
   "metadata": {},
   "outputs": [
    {
     "data": {
      "text/plain": [
       "torch.Size([82584])"
      ]
     },
     "execution_count": 56,
     "metadata": {},
     "output_type": "execute_result"
    }
   ],
   "source": [
    "posY_train.shape"
   ]
  },
  {
   "cell_type": "code",
   "execution_count": null,
   "id": "6cbb0ca6",
   "metadata": {},
   "outputs": [],
   "source": [
    "\n",
    "    "
   ]
  },
  {
   "cell_type": "code",
   "execution_count": 57,
   "id": "a370ba0c",
   "metadata": {},
   "outputs": [],
   "source": [
    "pos_rnn = RNNModel(len(set(pos_tokens)) + 1)"
   ]
  },
  {
   "cell_type": "code",
   "execution_count": 58,
   "id": "2b3667f1",
   "metadata": {},
   "outputs": [],
   "source": [
    "optimrnn = torch.optim.Adam(pos_rnn.parameters(), lr = learning_rate)"
   ]
  },
  {
   "cell_type": "code",
   "execution_count": 59,
   "id": "feafb6db",
   "metadata": {},
   "outputs": [
    {
     "name": "stdout",
     "output_type": "stream",
     "text": [
      "epoch  0 / 3 loss=5.77402    time=21.1s\n",
      "epoch  1 / 3 loss=5.00299    time=23.0s\n",
      "epoch  2 / 3 loss=4.58145    time=27.9s\n"
     ]
    }
   ],
   "source": [
    "# training positive model with rnns\n",
    "train(pos_rnn, 3, pos_train_dload, optimrnn)"
   ]
  },
  {
   "cell_type": "markdown",
   "id": "c5c9c515",
   "metadata": {},
   "source": [
    "## Generating songs"
   ]
  },
  {
   "cell_type": "code",
   "execution_count": 60,
   "id": "db791a51",
   "metadata": {},
   "outputs": [],
   "source": [
    "def getseeds(dataset, num):\n",
    "    '''\n",
    "    generate random seeds to generate songs with. \n",
    "    param num - number of seeds to sample\n",
    "    '''\n",
    "    seeds = []\n",
    "    for i in range(num):\n",
    "        temp = []\n",
    "        seed = getcleantoks(dataset['Lyrics'].sample().values[0].split(\" \"))[0:8]\n",
    "        seeds.append(seed)\n",
    "\n",
    "    return seeds\n",
    "\n",
    "pos_seeds = getseeds(posdf, 10)\n",
    "neg_seeds = getseeds(negdf, 10)"
   ]
  },
  {
   "cell_type": "code",
   "execution_count": 61,
   "id": "9eaf656e",
   "metadata": {},
   "outputs": [],
   "source": [
    "def prob_sample(arr):\n",
    "    '''\n",
    "    Sample the predicted output to pick next sequence based on probability distribution and variance.\n",
    "    '''\n",
    "    var = 0.8\n",
    "    probs = np.log(np.asarray(arr).astype('float64'))/var\n",
    "    return np.argmax(np.random.multinomial(1,np.exp(probs)/np.sum(np.exp(probs)),1))\n",
    "    "
   ]
  },
  {
   "cell_type": "code",
   "execution_count": 62,
   "id": "04fc9f25",
   "metadata": {},
   "outputs": [],
   "source": [
    "def generatesongs(seeds, token, model, maxiter, dims):\n",
    "    '''\n",
    "    generates songs by encoding seeds, passing through model and generating maxiter amount of sequences.\n",
    "    '''\n",
    "    songs = []\n",
    "    counter = 0\n",
    "    for seed in seeds:\n",
    "        sentences = []\n",
    "        start = seed\n",
    "        next_seed = seed\n",
    "        #print(counter)\n",
    "        counter += 1\n",
    "        for i in range(maxiter):\n",
    "            temp = np.zeros(dims)\n",
    "            for index, gen in enumerate(next_seed):\n",
    "                if gen == '\\n':\n",
    "                    gen = 'newline'\n",
    "                temp[0, index] = token.word_index[gen]\n",
    "            predictions = F.softmax(model(Variable(torch.LongTensor(temp))), dim = 1)\n",
    "            predictions = np.array(predictions.data[0].cpu())\n",
    "            generated_string = token.index_word[prob_sample(predictions)]\n",
    "            if generated_string == 'newline':\n",
    "                generated_string = '\\n'\n",
    "            sentences += [generated_string]\n",
    "            next_seed = next_seed[1:] + [generated_string]\n",
    "        songs.append([\" \".join(start+sentences)])\n",
    "                \n",
    "    return songs      "
   ]
  },
  {
   "cell_type": "code",
   "execution_count": 63,
   "id": "ba2871bf",
   "metadata": {},
   "outputs": [],
   "source": [
    "# generating 10 positive songs\n",
    "positive_songs1 = generatesongs(pos_seeds, tokenizer_positive, pos_rnn, 300, (1,8))"
   ]
  },
  {
   "cell_type": "code",
   "execution_count": 64,
   "id": "780f49a3",
   "metadata": {},
   "outputs": [
    {
     "name": "stdout",
     "output_type": "stream",
     "text": [
      "ariana grande \n",
      " anytime i'm alone i can't tell it with you \n",
      " but i'm the day's around respect the summer \n",
      " superman \n",
      " i don't wanna know that i will always \n",
      " the one that he don't wanna know about gone \n",
      " caught \n",
      " \n",
      " \n",
      " i'm in my ripped \n",
      " i'm in a picture we \n",
      " i know your hair's \n",
      " yeah to give of so dirt \n",
      " \n",
      " and i know i know what are you doin' to \n",
      " if you know i know about you know the dimples \n",
      " i remember that i know i know that you was it to be it \n",
      " i don't wanna know it always \n",
      " and i feel that i don't care wanna be but \n",
      " \n",
      " pre \n",
      " \n",
      " \n",
      " you're be split fear \n",
      " but you were afraid to \n",
      " we don't wanna know that i never never go \n",
      " so are just about your body \n",
      " \n",
      " \n",
      " you're not different along out \n",
      " and 'bout bleedin' right a star \n",
      " not the world thing the border of the club \n",
      " \n",
      " \n",
      " \n",
      " i know that god so into malaysian fall \n",
      " \n",
      " \n",
      " \n",
      " \n",
      " \n",
      " i wanna rising know then the moment of that i don't want a good girl \n",
      " i know i came \n",
      " so i'd give you in the border \n",
      " and i'm cabello with my way \n",
      " free i've been runnin' ain't no about girls \n",
      " and i'm just what i know i met only attention in see \n",
      " i'ma we don't in the border but come in my pain border \n",
      " but i won't wanna know i know that it's for i try to be ourselves \n",
      " i can't be put galway time it on to me \n",
      " \n",
      " \n",
      " you \n",
      " so i'm still fear \n"
     ]
    }
   ],
   "source": [
    "# example of generated positive lyrics with RNN model\n",
    "for token in positive_songs1[2]:\n",
    "    token = re.sub('newline', '\\n', token)\n",
    "    print(token, end = \"\")"
   ]
  },
  {
   "cell_type": "code",
   "execution_count": 65,
   "id": "8ed4aedc",
   "metadata": {},
   "outputs": [],
   "source": [
    "# generating 10 songs with positive and negative LSTM models.\n",
    "positive_songs = generatesongs(pos_seeds, tokenizer_positive, pos_model, 300, (1,8))"
   ]
  },
  {
   "cell_type": "code",
   "execution_count": 66,
   "id": "835f1f98",
   "metadata": {},
   "outputs": [],
   "source": [
    "negative_songs = generatesongs(neg_seeds, tokenizer_negative, neg_model, 300, (1,8))"
   ]
  },
  {
   "cell_type": "code",
   "execution_count": 67,
   "id": "cfb032a7",
   "metadata": {},
   "outputs": [
    {
     "name": "stdout",
     "output_type": "stream",
     "text": [
      "pre ariana grande pharrell \n",
      " when life deals grateful my mine \n",
      " \n",
      " \n",
      " \n",
      " \n",
      " you die in the college by of my sittin' \n",
      " \n",
      " \n",
      " ooh but long master sheeran anywhere \n",
      " he are are you stop \n",
      " they think not run flawless \n",
      " oohembedshare \n",
      " and it's a grainin' shine \n",
      " i you said my tints that i got to ring my lion \n",
      " but we don't put in to played the sittin' \n",
      " drop how the hhh someone \n",
      " then you know im to this out of the kitchen \n",
      " you want to happy it on to you baby \n",
      " innocent with the new of a man \n",
      " i don't want a already wherever i i've be with the dick \n",
      " and i should wanna don't make me \n",
      " i wanna know with my way \n",
      " \n",
      " \n",
      " i know you kept it to to me \n",
      " i'm a your out years neck \n",
      " and \n",
      " \n",
      " and i made it see it \n",
      " ed check \n",
      " and we never and kim that still hhh \n",
      " you'll keep it real sheeran \n",
      " but you got my english that that it's my lungs \n",
      " \n",
      " pre \n",
      " i know her in the expect taking and b \n",
      " \n",
      " if you don't you really are you where's the no his picket \n",
      " he's in the thought at your poppin' \n",
      " and i take him \n",
      " i am the little bed ed \n",
      " my his apart woman \n",
      " our new time \n",
      " but to been in the clap run this walls \n",
      " i gotta want i know \n",
      " \n",
      " \n",
      " \n",
      " to dont gettin' in her up the rap down \n",
      " \n",
      " \n",
      " \n",
      " \n",
      " \n",
      " well we trembling to try \n",
      " she done in a magnet little \n",
      " we like you're we worry \n",
      " but"
     ]
    }
   ],
   "source": [
    "# example of positive song generated by LSTM model.\n",
    "for token in positive_songs[6]:\n",
    "    token = re.sub('newline', '\\n', token)\n",
    "    print(token, end = \"\")"
   ]
  },
  {
   "cell_type": "code",
   "execution_count": 68,
   "id": "80e561d5",
   "metadata": {},
   "outputs": [
    {
     "name": "stdout",
     "output_type": "stream",
     "text": [
      "my life suffocates planting the seeds of hate \n",
      " you upward god \n",
      " \n",
      " \n",
      " \n",
      " sorry \n",
      " i my he is \n",
      " can't know on to a riseembedshare \n",
      " world \n",
      " i love you thing i \n",
      " i mmm \n",
      " you don't 'cause to charlie \n",
      " \n",
      " \n",
      " i never you your camera i'm body \n",
      " to your knees their \n",
      " \n",
      " at for to black of women of whipping \n",
      " we pre \n",
      " \n",
      " i love death right give and we don't beyoncé love is you \n",
      " i what i all just me \n",
      " we to out is closeup of a shows free \n",
      " i just me \n",
      " i'm fate your least \n",
      " \n",
      " \n",
      " \n",
      " \n",
      " \n",
      " cut to one yeah \n",
      " i'm big behind we i'd tolls \n",
      " one the feel of a puth \n",
      " \n",
      " \n",
      " in love \n",
      " \n",
      " 'cause i all me you you beyoncé you now on \n",
      " oh i i it's don't know \n",
      " \n",
      " oh me so free \n",
      " \n",
      " \n",
      " \n",
      " your drawing me stains on \n",
      " oh cut i don't oh no \n",
      " but then i'm \n",
      " \n",
      " when do \n",
      " \n",
      " \n",
      " beyoncé your on my her death \n",
      " \n",
      " \n",
      " my pray now \n",
      " \n",
      " i leave with the nana \n",
      " \n",
      " i nobody \n",
      " don't i you god \n",
      " \n",
      " i a angrily i no see \n",
      " \n",
      " \n",
      " \n",
      " baby wet lunacy betrayal \n",
      " \n",
      " just told \n",
      " you were one labelled if \n",
      " \n",
      " oh you fit your thing \n",
      " i'm at be free \n",
      " beyoncé crazy \n",
      " i saint short the grave oh \n",
      " you gave we beyoncé your just did \n",
      " the freedom if i high dead \n",
      " \n",
      " \n",
      " \n",
      " \n",
      " you why and tell \n",
      " \n",
      " i on the record \n",
      " you company with you \n",
      " i"
     ]
    }
   ],
   "source": [
    "# Example of negative song generated by LSTM model.\n",
    "for token in negative_songs[9]:\n",
    "    token = re.sub('newline', '\\n', token)\n",
    "    print(token, end = \"\")"
   ]
  },
  {
   "cell_type": "markdown",
   "id": "19c0d4e3",
   "metadata": {},
   "source": [
    "## Analysis of results"
   ]
  },
  {
   "cell_type": "markdown",
   "id": "cb29ed8d",
   "metadata": {},
   "source": [
    "### Dataset"
   ]
  },
  {
   "cell_type": "code",
   "execution_count": 69,
   "id": "bd8baa46",
   "metadata": {},
   "outputs": [],
   "source": [
    "def metrics(text):\n",
    "    #number of distinct words in a lyric\n",
    "    counter = Counter(text['Lyrics'])\n",
    "    distinct_words = len(counter)\n",
    "    \n",
    "    #average number of tokens in a lyric\n",
    "    len_toks = sum(text['Lyrics'].str.len())/len(text['Lyrics'])\n",
    "  \n",
    "    \n",
    "    #average line length \n",
    "    subset = text\n",
    "    songs = list(subset[subset['Lyrics'].notnull()]['Lyrics'].str.split(pat = \"\\n\"))#songs\n",
    "\n",
    "    song_line_len = []\n",
    "    for song in songs:\n",
    "        line_lens = [] \n",
    "        for line in song:\n",
    "            line_lens.append(len(line.split(\" \")))\n",
    "        avg_line_per_song = sum(line_lens)/len(song)\n",
    "        song_line_len.append(avg_line_per_song)\n",
    "    avg_line_len = sum(song_line_len)/len(songs)\n",
    "    \n",
    "    \n",
    "    #average word length\n",
    "    song_line_len = []\n",
    "    for song in songs:\n",
    "        line_lens = []\n",
    "        for line in song:\n",
    "            line_lens.append(len(line)/len(line.split(\" \")))\n",
    "        avg_line_per_song = sum(line_lens)/len(song)\n",
    "        song_line_len.append(avg_line_per_song)\n",
    "    avg_word_len = sum(song_line_len)/len(songs)\n",
    "\n",
    "    \n",
    "    return distinct_words, len_toks, avg_line_len, avg_word_len"
   ]
  },
  {
   "cell_type": "code",
   "execution_count": 70,
   "id": "64a7f79b",
   "metadata": {},
   "outputs": [
    {
     "name": "stdout",
     "output_type": "stream",
     "text": [
      "distinct_words :  average number of tokens :  avg_line_length :  avg_word_len\n",
      "100 2312.14 533.41 4.280828088166607\n",
      "200 2341.47 545.945 4.283688800400422\n"
     ]
    },
    {
     "data": {
      "image/png": "[encoded data removed]",
      "text/plain": [
       "<Figure size 432x288 with 1 Axes>"
      ]
     },
     "metadata": {
      "needs_background": "light"
     },
     "output_type": "display_data"
    }
   ],
   "source": [
    "\n",
    "from collections import Counter\n",
    "\n",
    "distinct_words_neg, len_toks_neg, avg_line_len_neg, avg_word_len_neg = metrics(negdf)\n",
    " \n",
    "distinct_words_pos, len_toks_pos, avg_line_len_pos, avg_word_len_pos = metrics(posdf)\n",
    "\n",
    "# number of distinct words in alyric\n",
    "# average number of tokens in a lyric\n",
    "print(\"distinct_words : \", \"average number of tokens : \", \"avg_line_length : \", \"avg_word_len\" )\n",
    "print(distinct_words_neg, len_toks_neg, avg_line_len_neg, avg_word_len_neg)\n",
    "print(distinct_words_pos, len_toks_pos, avg_line_len_pos, avg_word_len_pos)\n",
    "\n",
    "X = ['distinct_words', 'number of tokens', 'average line length', \"avg word len\"]\n",
    "Y_neg = [distinct_words_neg, len_toks_neg,  avg_line_len_neg, avg_word_len_neg]\n",
    "Z_pos = [distinct_words_pos, len_toks_pos, avg_line_len_pos, avg_word_len_pos]\n",
    "  \n",
    "X_axis = np.arange(len(X))\n",
    "  \n",
    "plt.bar(X_axis - 0.2, Y_neg, 0.4, label = 'Negative')\n",
    "plt.bar(X_axis + 0.2, Z_pos, 0.4, label = 'Positive')\n",
    "  \n",
    "plt.xticks(X_axis, X)\n",
    "plt.xlabel(\"Groups\")\n",
    "plt.ylabel(\"Measured value \")\n",
    "plt.title(\"Song Lyrics dataset\")\n",
    "plt.xticks(rotation = 90)\n",
    "plt.legend()\n",
    "plt.show()"
   ]
  },
  {
   "cell_type": "markdown",
   "id": "cd73c9f9",
   "metadata": {},
   "source": [
    "### Song generation and similarity scores"
   ]
  },
  {
   "cell_type": "code",
   "execution_count": 71,
   "id": "93175d8a",
   "metadata": {},
   "outputs": [],
   "source": [
    "# data frame of generated positive and negative songs\n",
    "\n",
    "gen_pos_df = pd.DataFrame(positive_songs, columns = ['Lyrics'])\n",
    "\n",
    "gen_neg_df = pd.DataFrame(negative_songs, columns = ['Lyrics'])\n"
   ]
  },
  {
   "cell_type": "code",
   "execution_count": 72,
   "id": "82ac62e9",
   "metadata": {},
   "outputs": [],
   "source": [
    "def gen_metrics(text):\n",
    "    #number of distinct words in a lyric\n",
    "    counter = Counter(text['Lyrics'])\n",
    "    distinct_words = len(counter)\n",
    "\n",
    "    #average number of tokens in a lyric\n",
    "    len_toks = sum(text['Lyrics'].str.len())/len(text['Lyrics'])\n",
    "  \n",
    "    \n",
    "    #average line length \n",
    "    subset = text\n",
    "    songs = list(subset[subset['Lyrics'].notnull()]['Lyrics'].str.split(pat = \"\\n\"))#songs\n",
    "\n",
    "    song_line_len = []\n",
    "    for song in songs:\n",
    "        line_lens = [] \n",
    "        for line in song:\n",
    "            line_lens.append(len(line.split(\" \")))\n",
    "        avg_line_per_song = sum(line_lens)/len(song)\n",
    "        song_line_len.append(avg_line_per_song)\n",
    "    avg_line_len = sum(song_line_len)/len(songs)\n",
    "    \n",
    "    \n",
    "    #average word length\n",
    "    song_line_len = []\n",
    "    for song in songs:\n",
    "        line_lens = []\n",
    "        for line in song:\n",
    "            line_lens.append(len(line)/len(line.split(\" \")))\n",
    "        avg_line_per_song = sum(line_lens)/len(song)\n",
    "        song_line_len.append(avg_line_per_song)\n",
    "    avg_word_len = sum(song_line_len)/len(songs)\n",
    "\n",
    "    \n",
    "    return distinct_words, len_toks, avg_line_len, avg_word_len"
   ]
  },
  {
   "cell_type": "code",
   "execution_count": 73,
   "id": "a0bc1063",
   "metadata": {},
   "outputs": [
    {
     "name": "stdout",
     "output_type": "stream",
     "text": [
      "distinct_words :  average number of tokens :  avg_word_length :   avg_word_length:\n",
      "10 1193.0 5.049307497882968 2.1004532222689125\n",
      "10 1255.9 6.5092187637798755 2.5884745331954\n"
     ]
    },
    {
     "data": {
      "image/png": "[encoded data removed]",
      "text/plain": [
       "<Figure size 432x288 with 1 Axes>"
      ]
     },
     "metadata": {
      "needs_background": "light"
     },
     "output_type": "display_data"
    }
   ],
   "source": [
    "import numpy as np\n",
    "import matplotlib.pyplot as plt\n",
    "from collections import Counter\n",
    "\n",
    "distinct_words_neg, len_toks_neg, avg_line_len_neg,avg_word_len_neg  = gen_metrics(gen_neg_df)\n",
    " \n",
    "distinct_words_pos, len_toks_pos, avg_line_len_pos, avg_word_len_pos = gen_metrics(gen_pos_df)\n",
    "\n",
    "# number of distinct words in alyric\n",
    "# average number of tokens in a lyric\n",
    "print(\"distinct_words : \", \"average number of tokens : \", \"avg_word_length : \", \" avg_word_length:\")\n",
    "print(distinct_words_neg, len_toks_neg, avg_line_len_neg, avg_word_len_neg)\n",
    "print(distinct_words_pos, len_toks_pos, avg_line_len_pos, avg_word_len_pos)\n",
    "\n",
    "X = ['distinct_words', 'number of tokens', 'average word length', \"avg_word_length\"]\n",
    "Y_neg = [distinct_words_neg, len_toks_neg,  avg_line_len_neg, avg_word_len_neg]\n",
    "Z_pos = [distinct_words_pos, len_toks_pos, avg_line_len_pos, avg_word_len_pos]\n",
    "  \n",
    "X_axis = np.arange(len(X))\n",
    "  \n",
    "plt.bar(X_axis - 0.2, Y_neg, 0.4, label = 'Negative')\n",
    "plt.bar(X_axis + 0.2, Z_pos, 0.4, label = 'Positive')\n",
    "  \n",
    "plt.xticks(X_axis, X)\n",
    "plt.xlabel(\"Groups\")\n",
    "plt.ylabel(\"Measured value\")\n",
    "plt.title(\"Generated song dataset\")\n",
    "plt.xticks(rotation = 90)\n",
    "plt.legend()\n",
    "plt.show()"
   ]
  },
  {
   "cell_type": "code",
   "execution_count": 74,
   "id": "b5c1199e",
   "metadata": {},
   "outputs": [],
   "source": [
    "## measuring SPacy similarity b/n ten random songs (from each positive and negative dataset)\n",
    "## vs generated songs (pos and neg)"
   ]
  },
  {
   "cell_type": "code",
   "execution_count": 75,
   "id": "956fed3f",
   "metadata": {},
   "outputs": [],
   "source": [
    "def get_random_songs(dataset, num):\n",
    "    songs = []\n",
    "    for i in range(num):\n",
    "\n",
    "        # song = dataset['Lyrics'].sample(n=num)\n",
    "        song = dataset['Lyrics'].sample().values[0]\n",
    "        songs.append(song)\n",
    "\n",
    "    return songs\n",
    "\n",
    "\n",
    "# list of string of all songs\n",
    "pos_songs_df = get_random_songs(posdf, 10)\n",
    "neg_songs_df = get_random_songs(negdf, 10)"
   ]
  },
  {
   "cell_type": "code",
   "execution_count": 76,
   "id": "a21cd1cc",
   "metadata": {},
   "outputs": [],
   "source": [
    "\n",
    "\n",
    "# instruction : sudo pip3 install spacy\n",
    "# instruction : sudo python3 -m spacy download en\n",
    "\n",
    "\n",
    "import spacy\n",
    "\n",
    "\n",
    "nlp = spacy.load('en_core_web_sm')\n",
    "\n"
   ]
  },
  {
   "cell_type": "code",
   "execution_count": 77,
   "id": "0db30222",
   "metadata": {},
   "outputs": [
    {
     "name": "stderr",
     "output_type": "stream",
     "text": [
      "C:\\Users\\TanmayK\\AppData\\Local\\Temp/ipykernel_35088/395670343.py:11: UserWarning: [W007] The model you're using has no word vectors loaded, so the result of the Doc.similarity method will be based on the tagger, parser and NER, which may not give useful similarity judgements. This may happen if you're using one of the small models, e.g. `en_core_web_sm`, which don't ship with word vectors and only use context-sensitive tensors. You can always add your own word vectors, or use one of the larger models instead if available.\n",
      "  pos_sim = pos_sim + nlp(ds).similarity(nlp(gen))\n"
     ]
    },
    {
     "name": "stdout",
     "output_type": "stream",
     "text": [
      "AVERAGE POSITIVE COSINE SIMILARITY :  0.6793736906012829\n"
     ]
    }
   ],
   "source": [
    "# positive songs cosine similarity\n",
    "\n",
    "\n",
    "\n",
    "pos_sim = 0\n",
    "pos_songs_dataset = [x for [x] in positive_songs]\n",
    "\n",
    "for ds, gen in zip(pos_songs_dataset, pos_songs_df):\n",
    "\n",
    "\n",
    "    pos_sim = pos_sim + nlp(ds).similarity(nlp(gen))\n",
    "\n",
    "    \n",
    "    \n",
    "avg_pos_cos_sim = pos_sim / 10\n",
    "print(\"AVERAGE POSITIVE COSINE SIMILARITY : \",avg_pos_cos_sim)\n"
   ]
  },
  {
   "cell_type": "code",
   "execution_count": 78,
   "id": "2de7ab89",
   "metadata": {},
   "outputs": [
    {
     "name": "stderr",
     "output_type": "stream",
     "text": [
      "C:\\Users\\TanmayK\\AppData\\Local\\Temp/ipykernel_35088/1105327884.py:12: UserWarning: [W007] The model you're using has no word vectors loaded, so the result of the Doc.similarity method will be based on the tagger, parser and NER, which may not give useful similarity judgements. This may happen if you're using one of the small models, e.g. `en_core_web_sm`, which don't ship with word vectors and only use context-sensitive tensors. You can always add your own word vectors, or use one of the larger models instead if available.\n",
      "  neg_sim = neg_sim + nlp(ds).similarity(nlp(gen))\n"
     ]
    },
    {
     "name": "stdout",
     "output_type": "stream",
     "text": [
      "AVERAGE NEGATIVE COSINE SIMILARITY :  0.6627549918139455\n"
     ]
    }
   ],
   "source": [
    "\n",
    "# NEgative songs cosine similarity\n",
    "\n",
    "\n",
    "\n",
    "neg_sim = 0\n",
    "# flatten\n",
    "neg_songs_dataset = [x for [x] in negative_songs]\n",
    "\n",
    "for ds, gen in zip(neg_songs_dataset, neg_songs_df):\n",
    "\n",
    "\n",
    "    neg_sim = neg_sim + nlp(ds).similarity(nlp(gen))\n",
    "\n",
    "    \n",
    "    \n",
    "avg_neg_cos_sim = neg_sim / 10\n",
    "print(\"AVERAGE NEGATIVE COSINE SIMILARITY : \",avg_neg_cos_sim)\n",
    "\n",
    "\n",
    "\n"
   ]
  },
  {
   "cell_type": "markdown",
   "id": "6c72efab",
   "metadata": {},
   "source": [
    "## GRAPH COSINE SIMILARITY\n"
   ]
  },
  {
   "cell_type": "code",
   "execution_count": 79,
   "id": "9a92e05d",
   "metadata": {},
   "outputs": [
    {
     "data": {
      "image/png": "[encoded data removed]",
      "text/plain": [
       "<Figure size 432x288 with 1 Axes>"
      ]
     },
     "metadata": {
      "needs_background": "light"
     },
     "output_type": "display_data"
    }
   ],
   "source": [
    "\n",
    "\n",
    "import matplotlib.pyplot as plt\n",
    "fig = plt.figure()\n",
    "ax = fig.add_axes([0,0,1,1])\n",
    "dataset = ['NEGATIVE', 'POSITIVE']\n",
    "sim_val = [avg_neg_cos_sim, avg_pos_cos_sim]\n",
    "plt.xlabel(\"emotions of songs\")\n",
    "plt.ylabel(\"average cosine similarity\")\n",
    "plt.title(\"Cosine similarity of generated songs Vs songs in the dataset. FOR: positve and  negative datasets\")\n",
    "plt.xticks(rotation = 90)\n",
    "ax.bar(dataset,sim_val)\n",
    "plt.show()"
   ]
  },
  {
   "cell_type": "code",
   "execution_count": null,
   "id": "a19957b9",
   "metadata": {},
   "outputs": [],
   "source": []
  },
  {
   "cell_type": "code",
   "execution_count": null,
   "id": "dda6f268",
   "metadata": {},
   "outputs": [],
   "source": []
  },
  {
   "cell_type": "code",
   "execution_count": null,
   "id": "5d3d07cf",
   "metadata": {},
   "outputs": [],
   "source": []
  },
  {
   "cell_type": "code",
   "execution_count": null,
   "id": "addfc911",
   "metadata": {},
   "outputs": [],
   "source": []
  }
 ],
 "metadata": {
  "kernelspec": {
   "display_name": "Python 3 (ipykernel)",
   "language": "python",
   "name": "python3"
  },
  "language_info": {
   "codemirror_mode": {
    "name": "ipython",
    "version": 3
   },
   "file_extension": ".py",
   "mimetype": "text/x-python",
   "name": "python",
   "nbconvert_exporter": "python",
   "pygments_lexer": "ipython3",
   "version": "3.9.6"
  }
 },
 "nbformat": 4,
 "nbformat_minor": 5
}
